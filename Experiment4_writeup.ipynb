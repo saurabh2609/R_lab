{
  "nbformat": 4,
  "nbformat_minor": 0,
  "metadata": {
    "colab": {
      "name": "Copy of Experiment4_writeup.ipynb",
      "provenance": [],
      "collapsed_sections": [],
      "include_colab_link": true
    },
    "kernelspec": {
      "name": "ir",
      "display_name": "R"
    }
  },
  "cells": [
    {
      "cell_type": "markdown",
      "metadata": {
        "id": "view-in-github",
        "colab_type": "text"
      },
      "source": [
        "<a href=\"https://colab.research.google.com/github/saurabh2609/R_lab/blob/main/Experiment4_writeup.ipynb\" target=\"_parent\"><img src=\"https://colab.research.google.com/assets/colab-badge.svg\" alt=\"Open In Colab\"/></a>"
      ]
    },
    {
      "cell_type": "markdown",
      "metadata": {
        "id": "ID8ytqkhyQUI"
      },
      "source": [
        "**R Programming apply family of functions**\n",
        "\n",
        "In this experiment we will learn about how to use apply family of functions\n",
        "to do data wrangling and avaoid use of looping constructs \n",
        "\n",
        "The R base manual tells you that it’s called as follows: \n",
        "\n",
        "```\n",
        "apply(X, MARGIN, FUN, ...)\n",
        "```\n",
        "\n",
        "\n",
        "```X``` is an array or a matrix if the dimension of the array is ```2```\n",
        "\n",
        "```MARGIN``` is a variable defining how the function is applied: \n",
        " \n",
        "\n",
        "*   When ```MARGIN=1```, it applies over rows \n",
        "*   Whereas with ```MARGIN=2```, it works over columns\n",
        "*   ```MARGIN=c(1,2)```, it applies to both rows and columns;     \n",
        "\n",
        "and\n",
        "```FUN```, represents the function that you want to apply to the data. It can be any R function, including a User Defined Function (UDF)."
      ]
    },
    {
      "cell_type": "code",
      "metadata": {
        "id": "rlOEIqlfJf2P",
        "colab": {
          "base_uri": "https://localhost:8080/",
          "height": 186
        },
        "outputId": "f0461ec6-7a6c-404f-e4bc-9092543acec4"
      },
      "source": [
        "# Complete the following code by using apropriate apply family function\n",
        "# Construct a 5x6 matrix\n",
        "X <-matrix(rnorm(30), nrow=5, ncol=6)\n",
        "X\n"
      ],
      "execution_count": null,
      "outputs": [
        {
          "output_type": "display_data",
          "data": {
            "text/plain": [
              "     [,1]       [,2]        [,3]         [,4]        [,5]        [,6]      \n",
              "[1,] -0.2870336  0.44553749 -0.772988603 -0.85649587  1.88246528  0.3447588\n",
              "[2,]  0.3979938 -0.09564376  0.006934029  0.04037273  0.04062329 -0.7115850\n",
              "[3,]  1.2599145 -1.05688332  1.281002020 -0.56319453 -0.90317965 -0.1068406\n",
              "[4,] -0.5037054  1.06715092 -1.460073238 -2.06867668  0.07929756  0.5078934\n",
              "[5,]  0.8454252  0.82352800 -0.023231936 -0.11502586  1.15490170 -1.5168857"
            ],
            "text/latex": "A matrix: 5 × 6 of type dbl\n\\begin{tabular}{llllll}\n\t -0.2870336 &  0.44553749 & -0.772988603 & -0.85649587 &  1.88246528 &  0.3447588\\\\\n\t  0.3979938 & -0.09564376 &  0.006934029 &  0.04037273 &  0.04062329 & -0.7115850\\\\\n\t  1.2599145 & -1.05688332 &  1.281002020 & -0.56319453 & -0.90317965 & -0.1068406\\\\\n\t -0.5037054 &  1.06715092 & -1.460073238 & -2.06867668 &  0.07929756 &  0.5078934\\\\\n\t  0.8454252 &  0.82352800 & -0.023231936 & -0.11502586 &  1.15490170 & -1.5168857\\\\\n\\end{tabular}\n",
            "text/markdown": "\nA matrix: 5 × 6 of type dbl\n\n| -0.2870336 |  0.44553749 | -0.772988603 | -0.85649587 |  1.88246528 |  0.3447588 |\n|  0.3979938 | -0.09564376 |  0.006934029 |  0.04037273 |  0.04062329 | -0.7115850 |\n|  1.2599145 | -1.05688332 |  1.281002020 | -0.56319453 | -0.90317965 | -0.1068406 |\n| -0.5037054 |  1.06715092 | -1.460073238 | -2.06867668 |  0.07929756 |  0.5078934 |\n|  0.8454252 |  0.82352800 | -0.023231936 | -0.11502586 |  1.15490170 | -1.5168857 |\n\n",
            "text/html": [
              "<table class=\"dataframe\">\n",
              "<caption>A matrix: 5 × 6 of type dbl</caption>\n",
              "<tbody>\n",
              "\t<tr><td>-0.2870336</td><td> 0.44553749</td><td>-0.772988603</td><td>-0.85649587</td><td> 1.88246528</td><td> 0.3447588</td></tr>\n",
              "\t<tr><td> 0.3979938</td><td>-0.09564376</td><td> 0.006934029</td><td> 0.04037273</td><td> 0.04062329</td><td>-0.7115850</td></tr>\n",
              "\t<tr><td> 1.2599145</td><td>-1.05688332</td><td> 1.281002020</td><td>-0.56319453</td><td>-0.90317965</td><td>-0.1068406</td></tr>\n",
              "\t<tr><td>-0.5037054</td><td> 1.06715092</td><td>-1.460073238</td><td>-2.06867668</td><td> 0.07929756</td><td> 0.5078934</td></tr>\n",
              "\t<tr><td> 0.8454252</td><td> 0.82352800</td><td>-0.023231936</td><td>-0.11502586</td><td> 1.15490170</td><td>-1.5168857</td></tr>\n",
              "</tbody>\n",
              "</table>\n"
            ]
          },
          "metadata": {
            "tags": []
          }
        }
      ]
    },
    {
      "cell_type": "code",
      "metadata": {
        "colab": {
          "base_uri": "https://localhost:8080/",
          "height": 33
        },
        "id": "8Q7mn6BG7Zbd",
        "outputId": "52fb3abd-8c4f-48b0-f736-bdec7ac4d3fe"
      },
      "source": [
        "# Sum the values of each column with apply()\n",
        "X_colsum <- apply(X,2,sum)\n",
        "X_colsum"
      ],
      "execution_count": null,
      "outputs": [
        {
          "output_type": "display_data",
          "data": {
            "text/plain": [
              "[1]  1.7125944  1.1836893 -0.9683577 -3.5630202  2.2541082 -1.4826591"
            ],
            "text/latex": "\\begin{enumerate*}\n\\item 1.71259441573617\n\\item 1.18368932795398\n\\item -0.968357728848357\n\\item -3.56302020552495\n\\item 2.25410818827494\n\\item -1.4826591115327\n\\end{enumerate*}\n",
            "text/markdown": "1. 1.71259441573617\n2. 1.18368932795398\n3. -0.968357728848357\n4. -3.56302020552495\n5. 2.25410818827494\n6. -1.4826591115327\n\n\n",
            "text/html": [
              "<style>\n",
              ".list-inline {list-style: none; margin:0; padding: 0}\n",
              ".list-inline>li {display: inline-block}\n",
              ".list-inline>li:not(:last-child)::after {content: \"\\00b7\"; padding: 0 .5ex}\n",
              "</style>\n",
              "<ol class=list-inline><li>1.71259441573617</li><li>1.18368932795398</li><li>-0.968357728848357</li><li>-3.56302020552495</li><li>2.25410818827494</li><li>-1.4826591115327</li></ol>\n"
            ]
          },
          "metadata": {
            "tags": []
          }
        }
      ]
    },
    {
      "cell_type": "code",
      "metadata": {
        "colab": {
          "base_uri": "https://localhost:8080/",
          "height": 33
        },
        "id": "kJxb9YQs7q3a",
        "outputId": "65667c07-1755-44ab-a0ea-69f2125a2e38"
      },
      "source": [
        "# Sum the values of each row with apply()\n",
        "X_rowsum <- apply(X,1,sum)\n",
        "X_rowsum"
      ],
      "execution_count": null,
      "outputs": [
        {
          "output_type": "display_data",
          "data": {
            "text/plain": [
              "[1]  0.75624350 -0.32130494 -0.08918161 -2.37811347  1.16871140"
            ],
            "text/latex": "\\begin{enumerate*}\n\\item 0.756243502126017\n\\item -0.321304937777068\n\\item -0.0891816094519952\n\\item -2.37811347334838\n\\item 1.16871140451052\n\\end{enumerate*}\n",
            "text/markdown": "1. 0.756243502126017\n2. -0.321304937777068\n3. -0.0891816094519952\n4. -2.37811347334838\n5. 1.16871140451052\n\n\n",
            "text/html": [
              "<style>\n",
              ".list-inline {list-style: none; margin:0; padding: 0}\n",
              ".list-inline>li {display: inline-block}\n",
              ".list-inline>li:not(:last-child)::after {content: \"\\00b7\"; padding: 0 .5ex}\n",
              "</style>\n",
              "<ol class=list-inline><li>0.756243502126017</li><li>-0.321304937777068</li><li>-0.0891816094519952</li><li>-2.37811347334838</li><li>1.16871140451052</li></ol>\n"
            ]
          },
          "metadata": {
            "tags": []
          }
        }
      ]
    },
    {
      "cell_type": "code",
      "metadata": {
        "id": "XzaE_-Cyfpk9",
        "colab": {
          "base_uri": "https://localhost:8080/",
          "height": 186
        },
        "outputId": "e7ed7863-e2c1-4004-9f65-9bf747ffc7e8"
      },
      "source": [
        "# Complete the following code by using looping construct\n",
        "# Construct a 5x6 matrix\n",
        "X <-matrix(rnorm(30), nrow=5, ncol=6)\n",
        "X\n",
        "# Sum the values of each column with apply()\n"
      ],
      "execution_count": null,
      "outputs": [
        {
          "output_type": "display_data",
          "data": {
            "text/plain": [
              "     [,1]       [,2]          [,3]       [,4]       [,5]       [,6]       \n",
              "[1,] -0.5517793 -1.3641853186  0.4544861  0.2481590 -0.9997258  1.25392445\n",
              "[2,]  0.6863235 -0.3555996506 -0.6415918 -0.4693993  1.0829786  0.81053619\n",
              "[3,]  0.5474730  2.2490343477 -1.3850892 -0.4863375  0.8539670 -1.28431335\n",
              "[4,] -0.2013829 -0.9408268979 -1.3366602  0.9266562 -0.2629805 -0.08044259\n",
              "[5,] -0.6775236  0.0006791662  0.2557096 -0.9072636 -0.2510655  2.36168792"
            ],
            "text/latex": "A matrix: 5 × 6 of type dbl\n\\begin{tabular}{llllll}\n\t -0.5517793 & -1.3641853186 &  0.4544861 &  0.2481590 & -0.9997258 &  1.25392445\\\\\n\t  0.6863235 & -0.3555996506 & -0.6415918 & -0.4693993 &  1.0829786 &  0.81053619\\\\\n\t  0.5474730 &  2.2490343477 & -1.3850892 & -0.4863375 &  0.8539670 & -1.28431335\\\\\n\t -0.2013829 & -0.9408268979 & -1.3366602 &  0.9266562 & -0.2629805 & -0.08044259\\\\\n\t -0.6775236 &  0.0006791662 &  0.2557096 & -0.9072636 & -0.2510655 &  2.36168792\\\\\n\\end{tabular}\n",
            "text/markdown": "\nA matrix: 5 × 6 of type dbl\n\n| -0.5517793 | -1.3641853186 |  0.4544861 |  0.2481590 | -0.9997258 |  1.25392445 |\n|  0.6863235 | -0.3555996506 | -0.6415918 | -0.4693993 |  1.0829786 |  0.81053619 |\n|  0.5474730 |  2.2490343477 | -1.3850892 | -0.4863375 |  0.8539670 | -1.28431335 |\n| -0.2013829 | -0.9408268979 | -1.3366602 |  0.9266562 | -0.2629805 | -0.08044259 |\n| -0.6775236 |  0.0006791662 |  0.2557096 | -0.9072636 | -0.2510655 |  2.36168792 |\n\n",
            "text/html": [
              "<table class=\"dataframe\">\n",
              "<caption>A matrix: 5 × 6 of type dbl</caption>\n",
              "<tbody>\n",
              "\t<tr><td>-0.5517793</td><td>-1.3641853186</td><td> 0.4544861</td><td> 0.2481590</td><td>-0.9997258</td><td> 1.25392445</td></tr>\n",
              "\t<tr><td> 0.6863235</td><td>-0.3555996506</td><td>-0.6415918</td><td>-0.4693993</td><td> 1.0829786</td><td> 0.81053619</td></tr>\n",
              "\t<tr><td> 0.5474730</td><td> 2.2490343477</td><td>-1.3850892</td><td>-0.4863375</td><td> 0.8539670</td><td>-1.28431335</td></tr>\n",
              "\t<tr><td>-0.2013829</td><td>-0.9408268979</td><td>-1.3366602</td><td> 0.9266562</td><td>-0.2629805</td><td>-0.08044259</td></tr>\n",
              "\t<tr><td>-0.6775236</td><td> 0.0006791662</td><td> 0.2557096</td><td>-0.9072636</td><td>-0.2510655</td><td> 2.36168792</td></tr>\n",
              "</tbody>\n",
              "</table>\n"
            ]
          },
          "metadata": {
            "tags": []
          }
        }
      ]
    },
    {
      "cell_type": "markdown",
      "metadata": {
        "id": "c8gOYmFjf3lO"
      },
      "source": [
        "The **lapply()** Function is used when You want to apply a given function to every element of a list and obtain a list as a result.\n",
        " \n",
        " Syntax of **lapply()** looks like the **apply()** function.\n",
        "\n",
        "There is a slight difference in way they work, which is :\n",
        "\n",
        "\n",
        "\n",
        "1.   **lapply()** can be used for other objects like dataframes, lists or vectors\n",
        "2.   The output returned by **lapply()** is a list (which explains the “l” in the function name), which has the same number of elements as the object passed to it.\n",
        "\n",
        "To see how this works, complete the following code block.\n",
        "\n",
        "**lapply()** is a quite common operation performed on real data when making comparisons or aggregations from different dataframes.\n"
      ]
    },
    {
      "cell_type": "code",
      "metadata": {
        "id": "CbwaRO2ChyfV",
        "colab": {
          "base_uri": "https://localhost:8080/",
          "height": 158
        },
        "outputId": "1097ef29-70ea-410f-d379-7d4fd71f777a"
      },
      "source": [
        "# Using sequence 1:9 create a matrix A with size 3*3\n",
        "A <- matrix(1:9, nrow=3, ncol=3)\n",
        "A\n",
        "\n",
        "\n",
        "\n",
        "\n",
        "\n",
        "\n",
        "\n",
        "\n",
        "\n",
        "\n",
        "\n",
        "\n",
        "\n",
        "\n",
        "\n"
      ],
      "execution_count": null,
      "outputs": [
        {
          "output_type": "display_data",
          "data": {
            "text/plain": [
              "     [,1] [,2] [,3]\n",
              "[1,] 1    4    7   \n",
              "[2,] 2    5    8   \n",
              "[3,] 3    6    9   "
            ],
            "text/latex": "A matrix: 3 × 3 of type int\n\\begin{tabular}{lll}\n\t 1 & 4 & 7\\\\\n\t 2 & 5 & 8\\\\\n\t 3 & 6 & 9\\\\\n\\end{tabular}\n",
            "text/markdown": "\nA matrix: 3 × 3 of type int\n\n| 1 | 4 | 7 |\n| 2 | 5 | 8 |\n| 3 | 6 | 9 |\n\n",
            "text/html": [
              "<table class=\"dataframe\">\n",
              "<caption>A matrix: 3 × 3 of type int</caption>\n",
              "<tbody>\n",
              "\t<tr><td>1</td><td>4</td><td>7</td></tr>\n",
              "\t<tr><td>2</td><td>5</td><td>8</td></tr>\n",
              "\t<tr><td>3</td><td>6</td><td>9</td></tr>\n",
              "</tbody>\n",
              "</table>\n"
            ]
          },
          "metadata": {
            "tags": []
          }
        }
      ]
    },
    {
      "cell_type": "code",
      "metadata": {
        "colab": {
          "base_uri": "https://localhost:8080/",
          "height": 172
        },
        "id": "dQ1WE4f58CLp",
        "outputId": "b4684cfe-324d-4f4a-b325-0dc338638e0c"
      },
      "source": [
        "#Using sequence 4:15 create a matrix B with size 4*3\n",
        "B <- matrix(4:15, nrow=4, ncol=3)\n",
        "B"
      ],
      "execution_count": null,
      "outputs": [
        {
          "output_type": "display_data",
          "data": {
            "text/plain": [
              "     [,1] [,2] [,3]\n",
              "[1,] 4     8   12  \n",
              "[2,] 5     9   13  \n",
              "[3,] 6    10   14  \n",
              "[4,] 7    11   15  "
            ],
            "text/latex": "A matrix: 4 × 3 of type int\n\\begin{tabular}{lll}\n\t 4 &  8 & 12\\\\\n\t 5 &  9 & 13\\\\\n\t 6 & 10 & 14\\\\\n\t 7 & 11 & 15\\\\\n\\end{tabular}\n",
            "text/markdown": "\nA matrix: 4 × 3 of type int\n\n| 4 |  8 | 12 |\n| 5 |  9 | 13 |\n| 6 | 10 | 14 |\n| 7 | 11 | 15 |\n\n",
            "text/html": [
              "<table class=\"dataframe\">\n",
              "<caption>A matrix: 4 × 3 of type int</caption>\n",
              "<tbody>\n",
              "\t<tr><td>4</td><td> 8</td><td>12</td></tr>\n",
              "\t<tr><td>5</td><td> 9</td><td>13</td></tr>\n",
              "\t<tr><td>6</td><td>10</td><td>14</td></tr>\n",
              "\t<tr><td>7</td><td>11</td><td>15</td></tr>\n",
              "</tbody>\n",
              "</table>\n"
            ]
          },
          "metadata": {
            "tags": []
          }
        }
      ]
    },
    {
      "cell_type": "code",
      "metadata": {
        "colab": {
          "base_uri": "https://localhost:8080/",
          "height": 158
        },
        "id": "MBhpSsyr8K4m",
        "outputId": "6f515b2a-9923-4f23-bb31-7db6fc8b1300"
      },
      "source": [
        "#Using sequnce 8:10 create a matrix C with size 3*2\n",
        "C <- matrix(8:10, nrow=3, ncol=2)\n",
        "C"
      ],
      "execution_count": null,
      "outputs": [
        {
          "output_type": "display_data",
          "data": {
            "text/plain": [
              "     [,1] [,2]\n",
              "[1,]  8    8  \n",
              "[2,]  9    9  \n",
              "[3,] 10   10  "
            ],
            "text/latex": "A matrix: 3 × 2 of type int\n\\begin{tabular}{ll}\n\t  8 &  8\\\\\n\t  9 &  9\\\\\n\t 10 & 10\\\\\n\\end{tabular}\n",
            "text/markdown": "\nA matrix: 3 × 2 of type int\n\n|  8 |  8 |\n|  9 |  9 |\n| 10 | 10 |\n\n",
            "text/html": [
              "<table class=\"dataframe\">\n",
              "<caption>A matrix: 3 × 2 of type int</caption>\n",
              "<tbody>\n",
              "\t<tr><td> 8</td><td> 8</td></tr>\n",
              "\t<tr><td> 9</td><td> 9</td></tr>\n",
              "\t<tr><td>10</td><td>10</td></tr>\n",
              "</tbody>\n",
              "</table>\n"
            ]
          },
          "metadata": {
            "tags": []
          }
        }
      ]
    },
    {
      "cell_type": "code",
      "metadata": {
        "colab": {
          "base_uri": "https://localhost:8080/",
          "height": 484
        },
        "id": "DPada-N08UeZ",
        "outputId": "d1fdec7a-8e77-43d2-e779-bcc925e26809"
      },
      "source": [
        "# create variable MyList as list of matrix A, B, C\n",
        "MyList <- list(A, B, C)\n",
        "MyList"
      ],
      "execution_count": null,
      "outputs": [
        {
          "output_type": "display_data",
          "data": {
            "text/plain": [
              "[[1]]\n",
              "     [,1] [,2] [,3]\n",
              "[1,]    1    4    7\n",
              "[2,]    2    5    8\n",
              "[3,]    3    6    9\n",
              "\n",
              "[[2]]\n",
              "     [,1] [,2] [,3]\n",
              "[1,]    4    8   12\n",
              "[2,]    5    9   13\n",
              "[3,]    6   10   14\n",
              "[4,]    7   11   15\n",
              "\n",
              "[[3]]\n",
              "     [,1] [,2]\n",
              "[1,]    8    8\n",
              "[2,]    9    9\n",
              "[3,]   10   10\n"
            ],
            "text/latex": "\\begin{enumerate}\n\\item A matrix: 3 × 3 of type int\n\\begin{tabular}{lll}\n\t 1 & 4 & 7\\\\\n\t 2 & 5 & 8\\\\\n\t 3 & 6 & 9\\\\\n\\end{tabular}\n\n\\item A matrix: 4 × 3 of type int\n\\begin{tabular}{lll}\n\t 4 &  8 & 12\\\\\n\t 5 &  9 & 13\\\\\n\t 6 & 10 & 14\\\\\n\t 7 & 11 & 15\\\\\n\\end{tabular}\n\n\\item A matrix: 3 × 2 of type int\n\\begin{tabular}{ll}\n\t  8 &  8\\\\\n\t  9 &  9\\\\\n\t 10 & 10\\\\\n\\end{tabular}\n\n\\end{enumerate}\n",
            "text/markdown": "1. \nA matrix: 3 × 3 of type int\n\n| 1 | 4 | 7 |\n| 2 | 5 | 8 |\n| 3 | 6 | 9 |\n\n\n2. \nA matrix: 4 × 3 of type int\n\n| 4 |  8 | 12 |\n| 5 |  9 | 13 |\n| 6 | 10 | 14 |\n| 7 | 11 | 15 |\n\n\n3. \nA matrix: 3 × 2 of type int\n\n|  8 |  8 |\n|  9 |  9 |\n| 10 | 10 |\n\n\n\n\n",
            "text/html": [
              "<ol>\n",
              "\t<li><table class=\"dataframe\">\n",
              "<caption>A matrix: 3 × 3 of type int</caption>\n",
              "<tbody>\n",
              "\t<tr><td>1</td><td>4</td><td>7</td></tr>\n",
              "\t<tr><td>2</td><td>5</td><td>8</td></tr>\n",
              "\t<tr><td>3</td><td>6</td><td>9</td></tr>\n",
              "</tbody>\n",
              "</table>\n",
              "</li>\n",
              "\t<li><table class=\"dataframe\">\n",
              "<caption>A matrix: 4 × 3 of type int</caption>\n",
              "<tbody>\n",
              "\t<tr><td>4</td><td> 8</td><td>12</td></tr>\n",
              "\t<tr><td>5</td><td> 9</td><td>13</td></tr>\n",
              "\t<tr><td>6</td><td>10</td><td>14</td></tr>\n",
              "\t<tr><td>7</td><td>11</td><td>15</td></tr>\n",
              "</tbody>\n",
              "</table>\n",
              "</li>\n",
              "\t<li><table class=\"dataframe\">\n",
              "<caption>A matrix: 3 × 2 of type int</caption>\n",
              "<tbody>\n",
              "\t<tr><td> 8</td><td> 8</td></tr>\n",
              "\t<tr><td> 9</td><td> 9</td></tr>\n",
              "\t<tr><td>10</td><td>10</td></tr>\n",
              "</tbody>\n",
              "</table>\n",
              "</li>\n",
              "</ol>\n"
            ]
          },
          "metadata": {
            "tags": []
          }
        }
      ]
    },
    {
      "cell_type": "code",
      "metadata": {
        "colab": {
          "base_uri": "https://localhost:8080/",
          "height": 95
        },
        "id": "B_Men_pf8cNZ",
        "outputId": "ed0d0019-88fc-4293-acf1-e6dc33d489e9"
      },
      "source": [
        "# Using lapply and [ operator Extract the 2nd column from `MyList` with the selection operator `[` with `lapply()`\n",
        "lapply(MyList, '[', , 2)"
      ],
      "execution_count": null,
      "outputs": [
        {
          "output_type": "display_data",
          "data": {
            "text/plain": [
              "[[1]]\n",
              "[1] 4 5 6\n",
              "\n",
              "[[2]]\n",
              "[1]  8  9 10 11\n",
              "\n",
              "[[3]]\n",
              "[1]  8  9 10\n"
            ],
            "text/latex": "\\begin{enumerate}\n\\item \\begin{enumerate*}\n\\item 4\n\\item 5\n\\item 6\n\\end{enumerate*}\n\n\\item \\begin{enumerate*}\n\\item 8\n\\item 9\n\\item 10\n\\item 11\n\\end{enumerate*}\n\n\\item \\begin{enumerate*}\n\\item 8\n\\item 9\n\\item 10\n\\end{enumerate*}\n\n\\end{enumerate}\n",
            "text/markdown": "1. 1. 4\n2. 5\n3. 6\n\n\n\n2. 1. 8\n2. 9\n3. 10\n4. 11\n\n\n\n3. 1. 8\n2. 9\n3. 10\n\n\n\n\n\n",
            "text/html": [
              "<ol>\n",
              "\t<li><style>\n",
              ".list-inline {list-style: none; margin:0; padding: 0}\n",
              ".list-inline>li {display: inline-block}\n",
              ".list-inline>li:not(:last-child)::after {content: \"\\00b7\"; padding: 0 .5ex}\n",
              "</style>\n",
              "<ol class=list-inline><li>4</li><li>5</li><li>6</li></ol>\n",
              "</li>\n",
              "\t<li><style>\n",
              ".list-inline {list-style: none; margin:0; padding: 0}\n",
              ".list-inline>li {display: inline-block}\n",
              ".list-inline>li:not(:last-child)::after {content: \"\\00b7\"; padding: 0 .5ex}\n",
              "</style>\n",
              "<ol class=list-inline><li>8</li><li>9</li><li>10</li><li>11</li></ol>\n",
              "</li>\n",
              "\t<li><style>\n",
              ".list-inline {list-style: none; margin:0; padding: 0}\n",
              ".list-inline>li {display: inline-block}\n",
              ".list-inline>li:not(:last-child)::after {content: \"\\00b7\"; padding: 0 .5ex}\n",
              "</style>\n",
              "<ol class=list-inline><li>8</li><li>9</li><li>10</li></ol>\n",
              "</li>\n",
              "</ol>\n"
            ]
          },
          "metadata": {
            "tags": []
          }
        }
      ]
    },
    {
      "cell_type": "code",
      "metadata": {
        "colab": {
          "base_uri": "https://localhost:8080/",
          "height": 95
        },
        "id": "MCgyea059HC5",
        "outputId": "d7eb0d77-921a-4f7f-9e96-323d07b92e76"
      },
      "source": [
        "# Using lapply and [ operator Extract the 4th row from `MyList` with the selection operator `[` with `lapply()\n",
        "lapply(MyList,\"[\", , 2)"
      ],
      "execution_count": null,
      "outputs": [
        {
          "output_type": "display_data",
          "data": {
            "text/plain": [
              "[[1]]\n",
              "[1] 4 5 6\n",
              "\n",
              "[[2]]\n",
              "[1]  8  9 10 11\n",
              "\n",
              "[[3]]\n",
              "[1]  8  9 10\n"
            ],
            "text/latex": "\\begin{enumerate}\n\\item \\begin{enumerate*}\n\\item 4\n\\item 5\n\\item 6\n\\end{enumerate*}\n\n\\item \\begin{enumerate*}\n\\item 8\n\\item 9\n\\item 10\n\\item 11\n\\end{enumerate*}\n\n\\item \\begin{enumerate*}\n\\item 8\n\\item 9\n\\item 10\n\\end{enumerate*}\n\n\\end{enumerate}\n",
            "text/markdown": "1. 1. 4\n2. 5\n3. 6\n\n\n\n2. 1. 8\n2. 9\n3. 10\n4. 11\n\n\n\n3. 1. 8\n2. 9\n3. 10\n\n\n\n\n\n",
            "text/html": [
              "<ol>\n",
              "\t<li><style>\n",
              ".list-inline {list-style: none; margin:0; padding: 0}\n",
              ".list-inline>li {display: inline-block}\n",
              ".list-inline>li:not(:last-child)::after {content: \"\\00b7\"; padding: 0 .5ex}\n",
              "</style>\n",
              "<ol class=list-inline><li>4</li><li>5</li><li>6</li></ol>\n",
              "</li>\n",
              "\t<li><style>\n",
              ".list-inline {list-style: none; margin:0; padding: 0}\n",
              ".list-inline>li {display: inline-block}\n",
              ".list-inline>li:not(:last-child)::after {content: \"\\00b7\"; padding: 0 .5ex}\n",
              "</style>\n",
              "<ol class=list-inline><li>8</li><li>9</li><li>10</li><li>11</li></ol>\n",
              "</li>\n",
              "\t<li><style>\n",
              ".list-inline {list-style: none; margin:0; padding: 0}\n",
              ".list-inline>li {display: inline-block}\n",
              ".list-inline>li:not(:last-child)::after {content: \"\\00b7\"; padding: 0 .5ex}\n",
              "</style>\n",
              "<ol class=list-inline><li>8</li><li>9</li><li>10</li></ol>\n",
              "</li>\n",
              "</ol>\n"
            ]
          },
          "metadata": {
            "tags": []
          }
        }
      ]
    },
    {
      "cell_type": "markdown",
      "metadata": {
        "id": "Oi6xUIxu9gcl"
      },
      "source": [
        "\n",
        "My list has only 3 rows in Matrix A & C .."
      ]
    },
    {
      "cell_type": "code",
      "metadata": {
        "colab": {
          "base_uri": "https://localhost:8080/",
          "height": 95
        },
        "id": "ez8oyFga97nC",
        "outputId": "7d5826c4-8bb7-4368-a641-a7da9f3e1f57"
      },
      "source": [
        "# Using lapply and [ operator Extract the 1st row from `MyList` with the selection operator `[` with `lapply()`\n",
        "lapply(MyList,\"[\", 1, )"
      ],
      "execution_count": null,
      "outputs": [
        {
          "output_type": "display_data",
          "data": {
            "text/plain": [
              "[[1]]\n",
              "[1] 1 4 7\n",
              "\n",
              "[[2]]\n",
              "[1]  4  8 12\n",
              "\n",
              "[[3]]\n",
              "[1] 8 8\n"
            ],
            "text/latex": "\\begin{enumerate}\n\\item \\begin{enumerate*}\n\\item 1\n\\item 4\n\\item 7\n\\end{enumerate*}\n\n\\item \\begin{enumerate*}\n\\item 4\n\\item 8\n\\item 12\n\\end{enumerate*}\n\n\\item \\begin{enumerate*}\n\\item 8\n\\item 8\n\\end{enumerate*}\n\n\\end{enumerate}\n",
            "text/markdown": "1. 1. 1\n2. 4\n3. 7\n\n\n\n2. 1. 4\n2. 8\n3. 12\n\n\n\n3. 1. 8\n2. 8\n\n\n\n\n\n",
            "text/html": [
              "<ol>\n",
              "\t<li><style>\n",
              ".list-inline {list-style: none; margin:0; padding: 0}\n",
              ".list-inline>li {display: inline-block}\n",
              ".list-inline>li:not(:last-child)::after {content: \"\\00b7\"; padding: 0 .5ex}\n",
              "</style>\n",
              "<ol class=list-inline><li>1</li><li>4</li><li>7</li></ol>\n",
              "</li>\n",
              "\t<li><style>\n",
              ".list-inline {list-style: none; margin:0; padding: 0}\n",
              ".list-inline>li {display: inline-block}\n",
              ".list-inline>li:not(:last-child)::after {content: \"\\00b7\"; padding: 0 .5ex}\n",
              "</style>\n",
              "<ol class=list-inline><li>4</li><li>8</li><li>12</li></ol>\n",
              "</li>\n",
              "\t<li><style>\n",
              ".list-inline {list-style: none; margin:0; padding: 0}\n",
              ".list-inline>li {display: inline-block}\n",
              ".list-inline>li:not(:last-child)::after {content: \"\\00b7\"; padding: 0 .5ex}\n",
              "</style>\n",
              "<ol class=list-inline><li>8</li><li>8</li></ol>\n",
              "</li>\n",
              "</ol>\n"
            ]
          },
          "metadata": {
            "tags": []
          }
        }
      ]
    },
    {
      "cell_type": "markdown",
      "metadata": {
        "id": "G0kWHtRVjDjw"
      },
      "source": [
        "The **sapply()** Function\n",
        "\n",
        "The **sapply()** function works like **lapply()**, but it tries to simplify the output to the most elementary data structure that is possible. And indeed, ```sapply()``` is a **‘wrapper’** function for **lapply()**.\n",
        "\n",
        "Let’s repeat the extraction operation of a single element as in the last example, but now take the first element of the second row (indexes 2 and 1) for each matrix.\n",
        "\n",
        "Applying the **lapply()** function would give us a list unless you pass ```simplify=FALSE``` as a parameter to **sapply()**. Then, a list will be returned. See how it works in the code chunk below:\n",
        "\n"
      ]
    },
    {
      "cell_type": "code",
      "metadata": {
        "id": "RxXnDh47jiBF",
        "colab": {
          "base_uri": "https://localhost:8080/",
          "height": 207
        },
        "outputId": "9ee68ccf-0d63-4596-e7f7-0d6e19b505a4"
      },
      "source": [
        "# Return a list with `lapply()`\n",
        "lapply(MyList,\"[\", 2, 1 )\n",
        "\n",
        "# Return a vector with `sapply()`\n",
        "sapply(MyList,\"[\", 2, 1 )\n",
        "\n",
        "# Return a list with `sapply()`\n",
        "sapply(MyList,\"[\", 2, 1, simplify=F)\n",
        "\n",
        "# Return a vector with `unlist()`\n",
        "unlist(lapply(MyList,\"[\", 2, 1 ))"
      ],
      "execution_count": null,
      "outputs": [
        {
          "output_type": "display_data",
          "data": {
            "text/plain": [
              "[[1]]\n",
              "[1] 2\n",
              "\n",
              "[[2]]\n",
              "[1] 5\n",
              "\n",
              "[[3]]\n",
              "[1] 9\n"
            ],
            "text/latex": "\\begin{enumerate}\n\\item 2\n\\item 5\n\\item 9\n\\end{enumerate}\n",
            "text/markdown": "1. 2\n2. 5\n3. 9\n\n\n",
            "text/html": [
              "<ol>\n",
              "\t<li>2</li>\n",
              "\t<li>5</li>\n",
              "\t<li>9</li>\n",
              "</ol>\n"
            ]
          },
          "metadata": {
            "tags": []
          }
        },
        {
          "output_type": "display_data",
          "data": {
            "text/plain": [
              "[1] 2 5 9"
            ],
            "text/latex": "\\begin{enumerate*}\n\\item 2\n\\item 5\n\\item 9\n\\end{enumerate*}\n",
            "text/markdown": "1. 2\n2. 5\n3. 9\n\n\n",
            "text/html": [
              "<style>\n",
              ".list-inline {list-style: none; margin:0; padding: 0}\n",
              ".list-inline>li {display: inline-block}\n",
              ".list-inline>li:not(:last-child)::after {content: \"\\00b7\"; padding: 0 .5ex}\n",
              "</style>\n",
              "<ol class=list-inline><li>2</li><li>5</li><li>9</li></ol>\n"
            ]
          },
          "metadata": {
            "tags": []
          }
        },
        {
          "output_type": "display_data",
          "data": {
            "text/plain": [
              "[[1]]\n",
              "[1] 2\n",
              "\n",
              "[[2]]\n",
              "[1] 5\n",
              "\n",
              "[[3]]\n",
              "[1] 9\n"
            ],
            "text/latex": "\\begin{enumerate}\n\\item 2\n\\item 5\n\\item 9\n\\end{enumerate}\n",
            "text/markdown": "1. 2\n2. 5\n3. 9\n\n\n",
            "text/html": [
              "<ol>\n",
              "\t<li>2</li>\n",
              "\t<li>5</li>\n",
              "\t<li>9</li>\n",
              "</ol>\n"
            ]
          },
          "metadata": {
            "tags": []
          }
        },
        {
          "output_type": "display_data",
          "data": {
            "text/plain": [
              "[1] 2 5 9"
            ],
            "text/latex": "\\begin{enumerate*}\n\\item 2\n\\item 5\n\\item 9\n\\end{enumerate*}\n",
            "text/markdown": "1. 2\n2. 5\n3. 9\n\n\n",
            "text/html": [
              "<style>\n",
              ".list-inline {list-style: none; margin:0; padding: 0}\n",
              ".list-inline>li {display: inline-block}\n",
              ".list-inline>li:not(:last-child)::after {content: \"\\00b7\"; padding: 0 .5ex}\n",
              "</style>\n",
              "<ol class=list-inline><li>2</li><li>5</li><li>9</li></ol>\n"
            ]
          },
          "metadata": {
            "tags": []
          }
        }
      ]
    },
    {
      "cell_type": "markdown",
      "metadata": {
        "id": "WuuRcW03kJyA"
      },
      "source": [
        "In this Text Block Write note on mapply function and give exampe code and exaplain use of mapply function.\n",
        "\n",
        "1.  \n"
      ]
    },
    {
      "cell_type": "code",
      "metadata": {
        "id": "pos2C33ujiEh"
      },
      "source": [
        "# Example use of mapply function\n"
      ],
      "execution_count": null,
      "outputs": []
    },
    {
      "cell_type": "code",
      "metadata": {
        "colab": {
          "base_uri": "https://localhost:8080/",
          "height": 196
        },
        "id": "y3kMDhzP_r0g",
        "outputId": "51255291-332e-4d48-9e1b-3ef11941d844"
      },
      "source": [
        "#Example 1\n",
        "\n",
        "#In this example, 1:9 is specifying the value to repeat, and 9:1 is specifying how many times to repeat. This order is based on the order of arguments in the rep function itself.\n",
        "mapply(rep, 1:9, 9:1)"
      ],
      "execution_count": null,
      "outputs": [
        {
          "output_type": "display_data",
          "data": {
            "text/plain": [
              "[[1]]\n",
              "[1] 1 1 1 1 1 1 1 1 1\n",
              "\n",
              "[[2]]\n",
              "[1] 2 2 2 2 2 2 2 2\n",
              "\n",
              "[[3]]\n",
              "[1] 3 3 3 3 3 3 3\n",
              "\n",
              "[[4]]\n",
              "[1] 4 4 4 4 4 4\n",
              "\n",
              "[[5]]\n",
              "[1] 5 5 5 5 5\n",
              "\n",
              "[[6]]\n",
              "[1] 6 6 6 6\n",
              "\n",
              "[[7]]\n",
              "[1] 7 7 7\n",
              "\n",
              "[[8]]\n",
              "[1] 8 8\n",
              "\n",
              "[[9]]\n",
              "[1] 9\n"
            ],
            "text/latex": "\\begin{enumerate}\n\\item \\begin{enumerate*}\n\\item 1\n\\item 1\n\\item 1\n\\item 1\n\\item 1\n\\item 1\n\\item 1\n\\item 1\n\\item 1\n\\end{enumerate*}\n\n\\item \\begin{enumerate*}\n\\item 2\n\\item 2\n\\item 2\n\\item 2\n\\item 2\n\\item 2\n\\item 2\n\\item 2\n\\end{enumerate*}\n\n\\item \\begin{enumerate*}\n\\item 3\n\\item 3\n\\item 3\n\\item 3\n\\item 3\n\\item 3\n\\item 3\n\\end{enumerate*}\n\n\\item \\begin{enumerate*}\n\\item 4\n\\item 4\n\\item 4\n\\item 4\n\\item 4\n\\item 4\n\\end{enumerate*}\n\n\\item \\begin{enumerate*}\n\\item 5\n\\item 5\n\\item 5\n\\item 5\n\\item 5\n\\end{enumerate*}\n\n\\item \\begin{enumerate*}\n\\item 6\n\\item 6\n\\item 6\n\\item 6\n\\end{enumerate*}\n\n\\item \\begin{enumerate*}\n\\item 7\n\\item 7\n\\item 7\n\\end{enumerate*}\n\n\\item \\begin{enumerate*}\n\\item 8\n\\item 8\n\\end{enumerate*}\n\n\\item 9\n\\end{enumerate}\n",
            "text/markdown": "1. 1. 1\n2. 1\n3. 1\n4. 1\n5. 1\n6. 1\n7. 1\n8. 1\n9. 1\n\n\n\n2. 1. 2\n2. 2\n3. 2\n4. 2\n5. 2\n6. 2\n7. 2\n8. 2\n\n\n\n3. 1. 3\n2. 3\n3. 3\n4. 3\n5. 3\n6. 3\n7. 3\n\n\n\n4. 1. 4\n2. 4\n3. 4\n4. 4\n5. 4\n6. 4\n\n\n\n5. 1. 5\n2. 5\n3. 5\n4. 5\n5. 5\n\n\n\n6. 1. 6\n2. 6\n3. 6\n4. 6\n\n\n\n7. 1. 7\n2. 7\n3. 7\n\n\n\n8. 1. 8\n2. 8\n\n\n\n9. 9\n\n\n",
            "text/html": [
              "<ol>\n",
              "\t<li><style>\n",
              ".list-inline {list-style: none; margin:0; padding: 0}\n",
              ".list-inline>li {display: inline-block}\n",
              ".list-inline>li:not(:last-child)::after {content: \"\\00b7\"; padding: 0 .5ex}\n",
              "</style>\n",
              "<ol class=list-inline><li>1</li><li>1</li><li>1</li><li>1</li><li>1</li><li>1</li><li>1</li><li>1</li><li>1</li></ol>\n",
              "</li>\n",
              "\t<li><style>\n",
              ".list-inline {list-style: none; margin:0; padding: 0}\n",
              ".list-inline>li {display: inline-block}\n",
              ".list-inline>li:not(:last-child)::after {content: \"\\00b7\"; padding: 0 .5ex}\n",
              "</style>\n",
              "<ol class=list-inline><li>2</li><li>2</li><li>2</li><li>2</li><li>2</li><li>2</li><li>2</li><li>2</li></ol>\n",
              "</li>\n",
              "\t<li><style>\n",
              ".list-inline {list-style: none; margin:0; padding: 0}\n",
              ".list-inline>li {display: inline-block}\n",
              ".list-inline>li:not(:last-child)::after {content: \"\\00b7\"; padding: 0 .5ex}\n",
              "</style>\n",
              "<ol class=list-inline><li>3</li><li>3</li><li>3</li><li>3</li><li>3</li><li>3</li><li>3</li></ol>\n",
              "</li>\n",
              "\t<li><style>\n",
              ".list-inline {list-style: none; margin:0; padding: 0}\n",
              ".list-inline>li {display: inline-block}\n",
              ".list-inline>li:not(:last-child)::after {content: \"\\00b7\"; padding: 0 .5ex}\n",
              "</style>\n",
              "<ol class=list-inline><li>4</li><li>4</li><li>4</li><li>4</li><li>4</li><li>4</li></ol>\n",
              "</li>\n",
              "\t<li><style>\n",
              ".list-inline {list-style: none; margin:0; padding: 0}\n",
              ".list-inline>li {display: inline-block}\n",
              ".list-inline>li:not(:last-child)::after {content: \"\\00b7\"; padding: 0 .5ex}\n",
              "</style>\n",
              "<ol class=list-inline><li>5</li><li>5</li><li>5</li><li>5</li><li>5</li></ol>\n",
              "</li>\n",
              "\t<li><style>\n",
              ".list-inline {list-style: none; margin:0; padding: 0}\n",
              ".list-inline>li {display: inline-block}\n",
              ".list-inline>li:not(:last-child)::after {content: \"\\00b7\"; padding: 0 .5ex}\n",
              "</style>\n",
              "<ol class=list-inline><li>6</li><li>6</li><li>6</li><li>6</li></ol>\n",
              "</li>\n",
              "\t<li><style>\n",
              ".list-inline {list-style: none; margin:0; padding: 0}\n",
              ".list-inline>li {display: inline-block}\n",
              ".list-inline>li:not(:last-child)::after {content: \"\\00b7\"; padding: 0 .5ex}\n",
              "</style>\n",
              "<ol class=list-inline><li>7</li><li>7</li><li>7</li></ol>\n",
              "</li>\n",
              "\t<li><style>\n",
              ".list-inline {list-style: none; margin:0; padding: 0}\n",
              ".list-inline>li {display: inline-block}\n",
              ".list-inline>li:not(:last-child)::after {content: \"\\00b7\"; padding: 0 .5ex}\n",
              "</style>\n",
              "<ol class=list-inline><li>8</li><li>8</li></ol>\n",
              "</li>\n",
              "\t<li>9</li>\n",
              "</ol>\n"
            ]
          },
          "metadata": {
            "tags": []
          }
        }
      ]
    },
    {
      "cell_type": "code",
      "metadata": {
        "colab": {
          "base_uri": "https://localhost:8080/",
          "height": 33
        },
        "id": "jQSahHJp_9Fh",
        "outputId": "12df4bd6-d179-4690-bfd4-a91e2ac5474d"
      },
      "source": [
        "#Example 2\n",
        "#Another use for mapply would be to create a new variable. For example, using dataset t, I could divide one column by another column to create a new value. This would be useful for creating a ratio of two variables as shown in the example below.\n",
        "my.matrx <- matrix(c(1:10, 11:20, 21:30), nrow = 10, ncol = 3)\n",
        "tdata <- as.data.frame(cbind(c(1,1,1,1,1,2,2,2,2,2), my.matrx))\n",
        "\n",
        "tdata$V5<- mapply(function(x, y) x/y, tdata$V2, tdata$V4)\n",
        "tdata$V5\n"
      ],
      "execution_count": null,
      "outputs": [
        {
          "output_type": "display_data",
          "data": {
            "text/plain": [
              " [1] 0.04761905 0.09090909 0.13043478 0.16666667 0.20000000 0.23076923\n",
              " [7] 0.25925926 0.28571429 0.31034483 0.33333333"
            ],
            "text/latex": "\\begin{enumerate*}\n\\item 0.0476190476190476\n\\item 0.0909090909090909\n\\item 0.130434782608696\n\\item 0.166666666666667\n\\item 0.2\n\\item 0.230769230769231\n\\item 0.259259259259259\n\\item 0.285714285714286\n\\item 0.310344827586207\n\\item 0.333333333333333\n\\end{enumerate*}\n",
            "text/markdown": "1. 0.0476190476190476\n2. 0.0909090909090909\n3. 0.130434782608696\n4. 0.166666666666667\n5. 0.2\n6. 0.230769230769231\n7. 0.259259259259259\n8. 0.285714285714286\n9. 0.310344827586207\n10. 0.333333333333333\n\n\n",
            "text/html": [
              "<style>\n",
              ".list-inline {list-style: none; margin:0; padding: 0}\n",
              ".list-inline>li {display: inline-block}\n",
              ".list-inline>li:not(:last-child)::after {content: \"\\00b7\"; padding: 0 .5ex}\n",
              "</style>\n",
              "<ol class=list-inline><li>0.0476190476190476</li><li>0.0909090909090909</li><li>0.130434782608696</li><li>0.166666666666667</li><li>0.2</li><li>0.230769230769231</li><li>0.259259259259259</li><li>0.285714285714286</li><li>0.310344827586207</li><li>0.333333333333333</li></ol>\n"
            ]
          },
          "metadata": {
            "tags": []
          }
        }
      ]
    },
    {
      "cell_type": "code",
      "metadata": {
        "colab": {
          "base_uri": "https://localhost:8080/",
          "height": 33
        },
        "id": "XFObdh_CAMUw",
        "outputId": "a1d73330-ad25-4465-8a65-1b3ac67ab690"
      },
      "source": [
        "#Example 3\n",
        "#When using an apply family function to create a new variable, one option is to create a new vector ahead of time with the size of the vector pre-allocated. I created a numeric vector of length 10 using the vector function. The arguments for the vector function are vector(mode, length). Inside mapply I created a function to multiple two variables together. The results of the mapply function are then saved into the vector.\n",
        "new.vec <- vector(mode = \"numeric\", length = 10)\n",
        "new.vec <- mapply(function(x, y) x*y, tdata$V3, tdata$V4)\n",
        "new.vec"
      ],
      "execution_count": null,
      "outputs": [
        {
          "output_type": "display_data",
          "data": {
            "text/plain": [
              " [1] 231 264 299 336 375 416 459 504 551 600"
            ],
            "text/latex": "\\begin{enumerate*}\n\\item 231\n\\item 264\n\\item 299\n\\item 336\n\\item 375\n\\item 416\n\\item 459\n\\item 504\n\\item 551\n\\item 600\n\\end{enumerate*}\n",
            "text/markdown": "1. 231\n2. 264\n3. 299\n4. 336\n5. 375\n6. 416\n7. 459\n8. 504\n9. 551\n10. 600\n\n\n",
            "text/html": [
              "<style>\n",
              ".list-inline {list-style: none; margin:0; padding: 0}\n",
              ".list-inline>li {display: inline-block}\n",
              ".list-inline>li:not(:last-child)::after {content: \"\\00b7\"; padding: 0 .5ex}\n",
              "</style>\n",
              "<ol class=list-inline><li>231</li><li>264</li><li>299</li><li>336</li><li>375</li><li>416</li><li>459</li><li>504</li><li>551</li><li>600</li></ol>\n"
            ]
          },
          "metadata": {
            "tags": []
          }
        }
      ]
    }
  ]
}